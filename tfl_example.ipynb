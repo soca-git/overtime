{
 "cells": [
  {
   "cell_type": "code",
   "execution_count": 1,
   "metadata": {},
   "outputs": [],
   "source": [
    "import overtime as ot"
   ]
  },
  {
   "cell_type": "code",
   "execution_count": 2,
   "metadata": {},
   "outputs": [],
   "source": [
    "### import central line data & create graph.\n",
    "central = ot.TemporalDiGraph('CentralLine', data=ot.CsvInput('./data/central-inbound.csv'))"
   ]
  },
  {
   "cell_type": "code",
   "execution_count": 3,
   "metadata": {
    "collapsed": true
   },
   "outputs": [
    {
     "data": {
      "text/plain": [
       "<overtime.components.nodes.Nodes at 0x7fba544a3390>"
      ]
     },
     "execution_count": 3,
     "metadata": {},
     "output_type": "execute_result"
    }
   ],
   "source": [
    "central.nodes # nodes object"
   ]
  },
  {
   "cell_type": "code",
   "execution_count": 4,
   "metadata": {
    "collapsed": true
   },
   "outputs": [
    {
     "data": {
      "text/plain": [
       "<overtime.components.arcs.TemporalArcs at 0x7fba21114750>"
      ]
     },
     "execution_count": 4,
     "metadata": {},
     "output_type": "execute_result"
    }
   ],
   "source": [
    "central.edges # edges object"
   ]
  },
  {
   "cell_type": "code",
   "execution_count": 6,
   "metadata": {
    "collapsed": true
   },
   "outputs": [
    {
     "data": {
      "text/plain": [
       "[<overtime.components.nodes.Node at 0x7fba2112d810>,\n",
       " <overtime.components.nodes.Node at 0x7fba2112d050>,\n",
       " <overtime.components.nodes.Node at 0x7fba2112d890>,\n",
       " <overtime.components.nodes.Node at 0x7fba2112d0d0>]"
      ]
     },
     "execution_count": 6,
     "metadata": {},
     "output_type": "execute_result"
    }
   ],
   "source": [
    "# nodes\n",
    "central.nodes.aslist()[0:4]"
   ]
  },
  {
   "cell_type": "code",
   "execution_count": 7,
   "metadata": {
    "collapsed": true
   },
   "outputs": [
    {
     "data": {
      "text/plain": [
       "36"
      ]
     },
     "execution_count": 7,
     "metadata": {},
     "output_type": "execute_result"
    }
   ],
   "source": [
    "central.nodes.count()"
   ]
  },
  {
   "cell_type": "code",
   "execution_count": 8,
   "metadata": {
    "collapsed": true
   },
   "outputs": [
    {
     "data": {
      "text/plain": [
       "['Notting Hill Gate',\n",
       " 'Leyton',\n",
       " 'Holland Park',\n",
       " 'Stratford',\n",
       " \"Shepherd's Bush (Central)\",\n",
       " 'Mile End',\n",
       " 'White City',\n",
       " 'Bethnal Green',\n",
       " 'Leytonstone',\n",
       " 'East Acton',\n",
       " 'Liverpool Street',\n",
       " 'North Acton',\n",
       " 'Bank',\n",
       " 'Hanger Lane',\n",
       " \"St. Paul's\",\n",
       " 'Perivale',\n",
       " 'Chancery Lane',\n",
       " 'Greenford',\n",
       " 'Holborn',\n",
       " 'Queensway',\n",
       " 'Northolt',\n",
       " 'Chigwell',\n",
       " 'Tottenham Court Road',\n",
       " 'South Ruislip',\n",
       " 'Oxford Circus',\n",
       " 'Ruislip Gardens',\n",
       " 'Woodford',\n",
       " 'Bond Street',\n",
       " 'West Ruislip',\n",
       " 'Grange Hill',\n",
       " 'Hainault',\n",
       " 'South Woodford',\n",
       " 'Marble Arch',\n",
       " 'Lancaster Gate',\n",
       " 'Snaresbrook',\n",
       " 'Roding Valley']"
      ]
     },
     "execution_count": 8,
     "metadata": {},
     "output_type": "execute_result"
    }
   ],
   "source": [
    "central.nodes.labels()"
   ]
  },
  {
   "cell_type": "code",
   "execution_count": 9,
   "metadata": {},
   "outputs": [],
   "source": [
    "# node\n",
    "lstreet = central.nodes.get('Liverpool Street')"
   ]
  },
  {
   "cell_type": "code",
   "execution_count": 10,
   "metadata": {
    "collapsed": true
   },
   "outputs": [
    {
     "data": {
      "text/plain": [
       "<overtime.components.arcs.TemporalArcs at 0x7fba21118890>"
      ]
     },
     "execution_count": 10,
     "metadata": {},
     "output_type": "execute_result"
    }
   ],
   "source": [
    "lstreet.sourceof()"
   ]
  },
  {
   "cell_type": "code",
   "execution_count": 11,
   "metadata": {
    "collapsed": true
   },
   "outputs": [
    {
     "data": {
      "text/plain": [
       "['Liverpool Street-Bank',\n",
       " 'Liverpool Street-Bank',\n",
       " 'Liverpool Street-Bank',\n",
       " 'Liverpool Street-Bank']"
      ]
     },
     "execution_count": 11,
     "metadata": {},
     "output_type": "execute_result"
    }
   ],
   "source": [
    "lstreet.sourceof().labels()"
   ]
  },
  {
   "cell_type": "code",
   "execution_count": 12,
   "metadata": {
    "collapsed": true
   },
   "outputs": [
    {
     "data": {
      "text/plain": [
       "['Bethnal Green-Liverpool Street',\n",
       " 'Bethnal Green-Liverpool Street',\n",
       " 'Bethnal Green-Liverpool Street',\n",
       " 'Bethnal Green-Liverpool Street']"
      ]
     },
     "execution_count": 12,
     "metadata": {},
     "output_type": "execute_result"
    }
   ],
   "source": [
    "lstreet.sinkof().labels()"
   ]
  },
  {
   "cell_type": "code",
   "execution_count": 13,
   "metadata": {
    "collapsed": true
   },
   "outputs": [
    {
     "data": {
      "text/plain": [
       "[875, 895, 920, 935]"
      ]
     },
     "execution_count": 13,
     "metadata": {},
     "output_type": "execute_result"
    }
   ],
   "source": [
    "lstreet.sinkof().start_times()"
   ]
  },
  {
   "cell_type": "code",
   "execution_count": 14,
   "metadata": {
    "collapsed": true
   },
   "outputs": [
    {
     "data": {
      "text/plain": [
       "[878, 898, 922, 938]"
      ]
     },
     "execution_count": 14,
     "metadata": {},
     "output_type": "execute_result"
    }
   ],
   "source": [
    "lstreet.sinkof().end_times()"
   ]
  },
  {
   "cell_type": "code",
   "execution_count": 15,
   "metadata": {
    "collapsed": true
   },
   "outputs": [
    {
     "data": {
      "text/plain": [
       "['Bethnal Green-Liverpool Street',\n",
       " 'Liverpool Street-Bank',\n",
       " 'Bethnal Green-Liverpool Street',\n",
       " 'Liverpool Street-Bank',\n",
       " 'Bethnal Green-Liverpool Street',\n",
       " 'Liverpool Street-Bank',\n",
       " 'Bethnal Green-Liverpool Street',\n",
       " 'Liverpool Street-Bank']"
      ]
     },
     "execution_count": 15,
     "metadata": {},
     "output_type": "execute_result"
    }
   ],
   "source": [
    "lstreet.nodeof().labels()"
   ]
  },
  {
   "cell_type": "code",
   "execution_count": 17,
   "metadata": {
    "collapsed": true
   },
   "outputs": [
    {
     "data": {
      "text/plain": [
       "['Bethnal Green', 'Bank']"
      ]
     },
     "execution_count": 17,
     "metadata": {},
     "output_type": "execute_result"
    }
   ],
   "source": [
    "lstreet.neighbours().labels()"
   ]
  },
  {
   "cell_type": "code",
   "execution_count": 19,
   "metadata": {
    "collapsed": true
   },
   "outputs": [
    {
     "data": {
      "text/plain": [
       "[<overtime.components.arcs.TemporalArc at 0x7fba21114710>,\n",
       " <overtime.components.arcs.TemporalArc at 0x7fba211146d0>,\n",
       " <overtime.components.arcs.TemporalArc at 0x7fba21114610>,\n",
       " <overtime.components.arcs.TemporalArc at 0x7fba21114790>]"
      ]
     },
     "execution_count": 19,
     "metadata": {},
     "output_type": "execute_result"
    }
   ],
   "source": [
    "# edges\n",
    "central.edges.aslist()[0:4]"
   ]
  },
  {
   "cell_type": "code",
   "execution_count": 20,
   "metadata": {
    "collapsed": true
   },
   "outputs": [
    {
     "data": {
      "text/plain": [
       "140"
      ]
     },
     "execution_count": 20,
     "metadata": {},
     "output_type": "execute_result"
    }
   ],
   "source": [
    "central.edges.count()"
   ]
  },
  {
   "cell_type": "code",
   "execution_count": 22,
   "metadata": {
    "collapsed": true
   },
   "outputs": [
    {
     "data": {
      "text/plain": [
       "['Hainault-Grange Hill',\n",
       " 'Grange Hill-Chigwell',\n",
       " 'Chigwell-Roding Valley',\n",
       " 'Roding Valley-Woodford',\n",
       " 'Woodford-South Woodford',\n",
       " 'South Woodford-Snaresbrook',\n",
       " 'Snaresbrook-Leytonstone',\n",
       " 'Leytonstone-Leyton',\n",
       " 'Leyton-Stratford',\n",
       " 'Hainault-Grange Hill',\n",
       " 'Stratford-Mile End',\n",
       " 'Grange Hill-Chigwell',\n",
       " 'Chigwell-Roding Valley',\n",
       " 'Mile End-Bethnal Green',\n",
       " 'Roding Valley-Woodford',\n",
       " 'Bethnal Green-Liverpool Street',\n",
       " 'Woodford-South Woodford',\n",
       " 'South Woodford-Snaresbrook',\n",
       " 'Liverpool Street-Bank',\n",
       " 'Snaresbrook-Leytonstone',\n",
       " \"Bank-St. Paul's\",\n",
       " \"St. Paul's-Chancery Lane\",\n",
       " 'Chancery Lane-Holborn',\n",
       " 'Leytonstone-Leyton',\n",
       " 'Holborn-Tottenham Court Road',\n",
       " 'Leyton-Stratford',\n",
       " 'Tottenham Court Road-Oxford Circus',\n",
       " 'Hainault-Grange Hill',\n",
       " 'Oxford Circus-Bond Street',\n",
       " 'Stratford-Mile End',\n",
       " 'Grange Hill-Chigwell',\n",
       " 'Bond Street-Marble Arch',\n",
       " 'Chigwell-Roding Valley',\n",
       " 'Marble Arch-Lancaster Gate',\n",
       " 'Mile End-Bethnal Green',\n",
       " 'Lancaster Gate-Queensway',\n",
       " 'Queensway-Notting Hill Gate',\n",
       " 'Bethnal Green-Liverpool Street',\n",
       " 'Roding Valley-Woodford',\n",
       " 'Notting Hill Gate-Holland Park',\n",
       " \"Holland Park-Shepherd's Bush (Central)\",\n",
       " 'Liverpool Street-Bank',\n",
       " \"Shepherd's Bush (Central)-White City\",\n",
       " \"Bank-St. Paul's\",\n",
       " 'Woodford-South Woodford',\n",
       " \"St. Paul's-Chancery Lane\",\n",
       " 'South Woodford-Snaresbrook',\n",
       " 'Chancery Lane-Holborn',\n",
       " 'White City-East Acton',\n",
       " 'Holborn-Tottenham Court Road',\n",
       " 'Snaresbrook-Leytonstone',\n",
       " 'Tottenham Court Road-Oxford Circus',\n",
       " 'East Acton-North Acton',\n",
       " 'Oxford Circus-Bond Street',\n",
       " 'Leytonstone-Leyton',\n",
       " 'Hainault-Grange Hill',\n",
       " 'North Acton-Hanger Lane',\n",
       " 'Bond Street-Marble Arch',\n",
       " 'Grange Hill-Chigwell',\n",
       " 'Marble Arch-Lancaster Gate',\n",
       " 'Leyton-Stratford',\n",
       " 'Chigwell-Roding Valley',\n",
       " 'Hanger Lane-Perivale',\n",
       " 'Lancaster Gate-Queensway',\n",
       " 'Stratford-Mile End',\n",
       " 'Perivale-Greenford',\n",
       " 'Queensway-Notting Hill Gate',\n",
       " 'Roding Valley-Woodford',\n",
       " 'Notting Hill Gate-Holland Park',\n",
       " 'Mile End-Bethnal Green',\n",
       " 'Woodford-South Woodford',\n",
       " 'Greenford-Northolt',\n",
       " \"Holland Park-Shepherd's Bush (Central)\",\n",
       " 'South Woodford-Snaresbrook',\n",
       " 'Northolt-South Ruislip',\n",
       " \"Shepherd's Bush (Central)-White City\",\n",
       " 'Bethnal Green-Liverpool Street',\n",
       " 'Snaresbrook-Leytonstone',\n",
       " 'South Ruislip-Ruislip Gardens',\n",
       " 'Liverpool Street-Bank',\n",
       " 'Ruislip Gardens-West Ruislip',\n",
       " 'White City-East Acton',\n",
       " 'Leytonstone-Leyton',\n",
       " \"Bank-St. Paul's\",\n",
       " 'Leyton-Stratford',\n",
       " 'East Acton-North Acton',\n",
       " \"St. Paul's-Chancery Lane\",\n",
       " 'Chancery Lane-Holborn',\n",
       " 'Stratford-Mile End',\n",
       " 'North Acton-Hanger Lane',\n",
       " 'Holborn-Tottenham Court Road',\n",
       " 'Tottenham Court Road-Oxford Circus',\n",
       " 'Hanger Lane-Perivale',\n",
       " 'Oxford Circus-Bond Street',\n",
       " 'Mile End-Bethnal Green',\n",
       " 'Bond Street-Marble Arch',\n",
       " 'Perivale-Greenford',\n",
       " 'Bethnal Green-Liverpool Street',\n",
       " 'Marble Arch-Lancaster Gate',\n",
       " 'Greenford-Northolt',\n",
       " 'Lancaster Gate-Queensway',\n",
       " 'Liverpool Street-Bank',\n",
       " 'Northolt-South Ruislip',\n",
       " 'Queensway-Notting Hill Gate',\n",
       " 'Notting Hill Gate-Holland Park',\n",
       " \"Bank-St. Paul's\",\n",
       " 'South Ruislip-Ruislip Gardens',\n",
       " \"St. Paul's-Chancery Lane\",\n",
       " \"Holland Park-Shepherd's Bush (Central)\",\n",
       " \"Shepherd's Bush (Central)-White City\",\n",
       " 'Chancery Lane-Holborn',\n",
       " 'Ruislip Gardens-West Ruislip',\n",
       " 'Holborn-Tottenham Court Road',\n",
       " 'Tottenham Court Road-Oxford Circus',\n",
       " 'White City-East Acton',\n",
       " 'Oxford Circus-Bond Street',\n",
       " 'Bond Street-Marble Arch',\n",
       " 'East Acton-North Acton',\n",
       " 'Marble Arch-Lancaster Gate',\n",
       " 'North Acton-Hanger Lane',\n",
       " 'Lancaster Gate-Queensway',\n",
       " 'Hanger Lane-Perivale',\n",
       " 'Queensway-Notting Hill Gate',\n",
       " 'Notting Hill Gate-Holland Park',\n",
       " 'Perivale-Greenford',\n",
       " \"Holland Park-Shepherd's Bush (Central)\",\n",
       " \"Shepherd's Bush (Central)-White City\",\n",
       " 'Greenford-Northolt',\n",
       " 'White City-East Acton',\n",
       " 'East Acton-North Acton',\n",
       " 'Northolt-South Ruislip',\n",
       " 'North Acton-Hanger Lane',\n",
       " 'South Ruislip-Ruislip Gardens',\n",
       " 'Hanger Lane-Perivale',\n",
       " 'Ruislip Gardens-West Ruislip',\n",
       " 'Perivale-Greenford',\n",
       " 'Greenford-Northolt',\n",
       " 'Northolt-South Ruislip',\n",
       " 'South Ruislip-Ruislip Gardens',\n",
       " 'Ruislip Gardens-West Ruislip']"
      ]
     },
     "execution_count": 22,
     "metadata": {},
     "output_type": "execute_result"
    }
   ],
   "source": [
    "central.edges.labels()"
   ]
  },
  {
   "cell_type": "code",
   "execution_count": 23,
   "metadata": {
    "collapsed": true
   },
   "outputs": [
    {
     "data": {
      "text/plain": [
       "[848,\n",
       " 850,\n",
       " 852,\n",
       " 855,\n",
       " 857,\n",
       " 859,\n",
       " 861,\n",
       " 864,\n",
       " 866,\n",
       " 867,\n",
       " 869,\n",
       " 869,\n",
       " 871,\n",
       " 873,\n",
       " 874,\n",
       " 875,\n",
       " 876,\n",
       " 878,\n",
       " 879,\n",
       " 880,\n",
       " 881,\n",
       " 882,\n",
       " 884,\n",
       " 884,\n",
       " 886,\n",
       " 886,\n",
       " 887,\n",
       " 887,\n",
       " 889,\n",
       " 889,\n",
       " 889,\n",
       " 890,\n",
       " 891,\n",
       " 892,\n",
       " 892,\n",
       " 893,\n",
       " 895,\n",
       " 895,\n",
       " 895,\n",
       " 897,\n",
       " 898,\n",
       " 898,\n",
       " 900,\n",
       " 900,\n",
       " 901,\n",
       " 902,\n",
       " 903,\n",
       " 904,\n",
       " 905,\n",
       " 905,\n",
       " 905,\n",
       " 907,\n",
       " 908,\n",
       " 908,\n",
       " 908,\n",
       " 908,\n",
       " 910,\n",
       " 910,\n",
       " 910,\n",
       " 911,\n",
       " 911,\n",
       " 912,\n",
       " 913,\n",
       " 913,\n",
       " 913,\n",
       " 915,\n",
       " 915,\n",
       " 915,\n",
       " 916,\n",
       " 917,\n",
       " 917,\n",
       " 918,\n",
       " 918,\n",
       " 919,\n",
       " 920,\n",
       " 920,\n",
       " 920,\n",
       " 921,\n",
       " 922,\n",
       " 923,\n",
       " 924,\n",
       " 924,\n",
       " 924,\n",
       " 925,\n",
       " 926,\n",
       " 927,\n",
       " 927,\n",
       " 929,\n",
       " 929,\n",
       " 930,\n",
       " 930,\n",
       " 932,\n",
       " 933,\n",
       " 933,\n",
       " 933,\n",
       " 934,\n",
       " 935,\n",
       " 935,\n",
       " 936,\n",
       " 938,\n",
       " 938,\n",
       " 939,\n",
       " 940,\n",
       " 940,\n",
       " 941,\n",
       " 941,\n",
       " 942,\n",
       " 942,\n",
       " 943,\n",
       " 944,\n",
       " 944,\n",
       " 945,\n",
       " 946,\n",
       " 947,\n",
       " 948,\n",
       " 949,\n",
       " 950,\n",
       " 951,\n",
       " 952,\n",
       " 953,\n",
       " 954,\n",
       " 956,\n",
       " 956,\n",
       " 957,\n",
       " 959,\n",
       " 959,\n",
       " 960,\n",
       " 961,\n",
       " 964,\n",
       " 967,\n",
       " 968,\n",
       " 969,\n",
       " 971,\n",
       " 972,\n",
       " 973,\n",
       " 975,\n",
       " 977,\n",
       " 979,\n",
       " 982,\n",
       " 984]"
      ]
     },
     "execution_count": 23,
     "metadata": {},
     "output_type": "execute_result"
    }
   ],
   "source": [
    "central.edges.start_times()"
   ]
  },
  {
   "cell_type": "code",
   "execution_count": 28,
   "metadata": {
    "collapsed": true
   },
   "outputs": [
    {
     "data": {
      "text/plain": [
       "['Bethnal Green-Liverpool Street',\n",
       " 'Bethnal Green-Liverpool Street',\n",
       " 'Bethnal Green-Liverpool Street',\n",
       " 'Bethnal Green-Liverpool Street']"
      ]
     },
     "execution_count": 28,
     "metadata": {},
     "output_type": "execute_result"
    }
   ],
   "source": [
    "central.edges.get_edge_by_label('Bethnal Green-Liverpool Street').labels()"
   ]
  },
  {
   "cell_type": "code",
   "execution_count": 29,
   "metadata": {
    "collapsed": true
   },
   "outputs": [
    {
     "data": {
      "text/plain": [
       "['Liverpool Street-Bank',\n",
       " 'Liverpool Street-Bank',\n",
       " 'Liverpool Street-Bank',\n",
       " 'Liverpool Street-Bank']"
      ]
     },
     "execution_count": 29,
     "metadata": {},
     "output_type": "execute_result"
    }
   ],
   "source": [
    "central.edges.get_edge_by_source('Liverpool Street').labels()"
   ]
  },
  {
   "cell_type": "code",
   "execution_count": 26,
   "metadata": {
    "collapsed": true
   },
   "outputs": [
    {
     "data": {
      "text/plain": [
       "[879, 898, 923, 939]"
      ]
     },
     "execution_count": 26,
     "metadata": {},
     "output_type": "execute_result"
    }
   ],
   "source": [
    "central.edges.get_edge_by_source('Liverpool Street').start_times()"
   ]
  },
  {
   "cell_type": "code",
   "execution_count": 27,
   "metadata": {
    "collapsed": true
   },
   "outputs": [
    {
     "data": {
      "text/plain": [
       "['Liverpool Street-Bank']"
      ]
     },
     "execution_count": 27,
     "metadata": {},
     "output_type": "execute_result"
    }
   ],
   "source": [
    "central.edges.get_edge_by_source('Liverpool Street').get_edge_by_start(879).labels()"
   ]
  },
  {
   "cell_type": "code",
   "execution_count": 30,
   "metadata": {
    "collapsed": true
   },
   "outputs": [
    {
     "data": {
      "text/plain": [
       "[879]"
      ]
     },
     "execution_count": 30,
     "metadata": {},
     "output_type": "execute_result"
    }
   ],
   "source": [
    "central.edges.get_edge_by_source('Liverpool Street').get_edge_by_interval((879, 884)).start_times()"
   ]
  },
  {
   "cell_type": "code",
   "execution_count": 31,
   "metadata": {},
   "outputs": [
    {
     "name": "stdout",
     "output_type": "stream",
     "text": [
      "\n",
      "\tGraph Details: \n",
      "\tLabel: CentralLine \n",
      "\tDirected: True \n",
      "\tStatic: False\n",
      "\t#Nodes: 36 \n",
      "\t#Edges: 140 \n",
      "\n"
     ]
    }
   ],
   "source": [
    "# graph\n",
    "central.details()"
   ]
  },
  {
   "cell_type": "code",
   "execution_count": 33,
   "metadata": {
    "collapsed": true
   },
   "outputs": [
    {
     "data": {
      "text/plain": [
       "<overtime.components.digraphs.DiGraph at 0x7fba210d5d90>"
      ]
     },
     "execution_count": 33,
     "metadata": {},
     "output_type": "execute_result"
    }
   ],
   "source": [
    "# snapshot\n",
    "central.get_snapshot(879)"
   ]
  },
  {
   "cell_type": "code",
   "execution_count": 34,
   "metadata": {},
   "outputs": [
    {
     "name": "stdout",
     "output_type": "stream",
     "text": [
      "\n",
      "\tGraph Details: \n",
      "\tLabel: CentralLine [time: 879] \n",
      "\tDirected: True \n",
      "\tStatic: True\n",
      "\t#Nodes: 36 \n",
      "\t#Edges: 2 \n",
      "\n"
     ]
    }
   ],
   "source": [
    "central.get_snapshot(879).details()"
   ]
  },
  {
   "cell_type": "code",
   "execution_count": 35,
   "metadata": {},
   "outputs": [],
   "source": [
    "### ot.Circle(central.get_snapshot(879))"
   ]
  },
  {
   "cell_type": "code",
   "execution_count": 36,
   "metadata": {
    "collapsed": true
   },
   "outputs": [
    {
     "data": {
      "text/plain": [
       "<overtime.components.digraphs.TemporalDiGraph at 0x7fba48501f10>"
      ]
     },
     "execution_count": 36,
     "metadata": {},
     "output_type": "execute_result"
    }
   ],
   "source": [
    "# subgraph\n",
    "central.get_temporal_subgraph((879, 900))"
   ]
  },
  {
   "cell_type": "code",
   "execution_count": 37,
   "metadata": {},
   "outputs": [
    {
     "name": "stdout",
     "output_type": "stream",
     "text": [
      "\n",
      "\tGraph Details: \n",
      "\tLabel: CentralLine [time: (879, 900)] \n",
      "\tDirected: True \n",
      "\tStatic: False\n",
      "\t#Nodes: 36 \n",
      "\t#Edges: 24 \n",
      "\n"
     ]
    }
   ],
   "source": [
    "central.get_temporal_subgraph((879, 900)).details()"
   ]
  },
  {
   "cell_type": "code",
   "execution_count": 38,
   "metadata": {},
   "outputs": [],
   "source": [
    "### ot.Circle(central.get_temporal_subgraph((879, 884)))"
   ]
  }
 ],
 "metadata": {
  "kernelspec": {
   "display_name": "Python 3",
   "language": "python",
   "name": "python3"
  },
  "language_info": {
   "codemirror_mode": {
    "name": "ipython",
    "version": 3
   },
   "file_extension": ".py",
   "mimetype": "text/x-python",
   "name": "python",
   "nbconvert_exporter": "python",
   "pygments_lexer": "ipython3",
   "version": "3.7.5"
  }
 },
 "nbformat": 4,
 "nbformat_minor": 4
}
